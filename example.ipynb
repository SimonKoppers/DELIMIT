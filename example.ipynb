{
 "cells": [
  {
   "cell_type": "code",
   "execution_count": 23,
   "metadata": {},
   "outputs": [],
   "source": [
    "import numpy as np\n",
    "from dipy.sims.voxel import multi_tensor, multi_tensor_odf\n",
    "from dipy.core.sphere import disperse_charges, HemiSphere\n",
    "from dipy.core.gradients import gradient_table\n",
    "import torch\n",
    "from DELIMIT.SphericalHarmonicTransformation import Signal2SH, SH2Signal\n",
    "from DELIMIT.SphericalConvolution import LocalSphericalConvolution, SphericalConvolution\n",
    "from DELIMIT.loss import MSESignal"
   ]
  },
  {
   "cell_type": "markdown",
   "metadata": {},
   "source": [
    "# Example for each class"
   ]
  },
  {
   "cell_type": "markdown",
   "metadata": {},
   "source": [
    "## Parameters that need to be set"
   ]
  },
  {
   "cell_type": "code",
   "execution_count": 24,
   "metadata": {},
   "outputs": [],
   "source": [
    "num_gradients = 30\n",
    "sh_order = 4"
   ]
  },
  {
   "cell_type": "markdown",
   "metadata": {},
   "source": [
    "## Signal Generation"
   ]
  },
  {
   "cell_type": "code",
   "execution_count": 25,
   "metadata": {},
   "outputs": [],
   "source": [
    "theta = np.pi * np.random.rand(num_gradients)\n",
    "phi = 2 * np.pi * np.random.rand(num_gradients)\n",
    "hsph_initial = HemiSphere(theta=theta, phi=phi)\n",
    "hsph_updated, potential = disperse_charges(hsph_initial, 5000)\n",
    "gradients = hsph_updated.vertices\n",
    "\n",
    "gtab = gradient_table(np.concatenate((np.zeros(1), np.ones(30)*1000)),\n",
    "                      np.concatenate((np.zeros((1, 3)), gradients)))\n",
    "\n",
    "mevals = np.array([[0.0015, 0.0003, 0.0003],\n",
    "                   [0.0015, 0.0003, 0.0003]])\n",
    "angles = [(0, 0), (60, 0)]\n",
    "fractions = [50, 50]\n",
    "signal, sticks = multi_tensor(gtab, mevals, S0=1, angles=angles,\n",
    "                              fractions=fractions, snr=None)"
   ]
  },
  {
   "cell_type": "markdown",
   "metadata": {},
   "source": [
    "## Signal Domain to Spherical Harmonic Domain transformation"
   ]
  },
  {
   "cell_type": "code",
   "execution_count": 26,
   "metadata": {},
   "outputs": [
    {
     "name": "stdout",
     "output_type": "stream",
     "text": [
      "torch.Size([1, 15, 1, 1, 1])\n"
     ]
    }
   ],
   "source": [
    "s2sh = Signal2SH(gradients=gradients, sh_order=sh_order, lb_lambda=0.006)\n",
    "\n",
    "input_tensor = torch.from_numpy(signal[1:]).reshape(1, num_gradients, 1, 1, 1).float()\n",
    "input_tensor_sh = s2sh(input_tensor)\n",
    "print(input_tensor_sh.shape)"
   ]
  },
  {
   "cell_type": "markdown",
   "metadata": {},
   "source": [
    "## Local Spherical Convolution"
   ]
  },
  {
   "cell_type": "code",
   "execution_count": 27,
   "metadata": {},
   "outputs": [
    {
     "name": "stdout",
     "output_type": "stream",
     "text": [
      "torch.Size([1, 3, 15, 1, 1, 1])\n"
     ]
    }
   ],
   "source": [
    "lsc = LocalSphericalConvolution(shells_in=1, shells_out=3,\n",
    "                                sh_order_in=sh_order, sh_order_out=sh_order, lb_lambda=0.006,\n",
    "                                sampled_gradients=gradients, kernel_sizes=[5, 5],\n",
    "                                angular_distance=(np.pi / 10))\n",
    "\n",
    "lsc_tensor_sh = lsc(input_tensor_sh)\n",
    "\n",
    "num_coefficients = int((sh_order + 1) * (sh_order / 2 + 1)) # just for visualization\n",
    "print(lsc_tensor_sh.reshape(1, -1, num_coefficients, 1, 1, 1).shape)"
   ]
  },
  {
   "cell_type": "markdown",
   "metadata": {},
   "source": [
    "## Spherical Convolution"
   ]
  },
  {
   "cell_type": "code",
   "execution_count": 28,
   "metadata": {},
   "outputs": [
    {
     "name": "stdout",
     "output_type": "stream",
     "text": [
      "torch.Size([1, 15, 1, 1, 1])\n"
     ]
    }
   ],
   "source": [
    "sc = SphericalConvolution(shells_in=3, shells_out=1, sh_order=sh_order)\n",
    "sc_tensor_sh = sc(lsc_tensor_sh)\n",
    "print(sc_tensor_sh.shape)"
   ]
  },
  {
   "cell_type": "markdown",
   "metadata": {},
   "source": [
    "## Loss calculation"
   ]
  },
  {
   "cell_type": "code",
   "execution_count": 29,
   "metadata": {},
   "outputs": [
    {
     "name": "stdout",
     "output_type": "stream",
     "text": [
      "tensor(1.1650, grad_fn=<MeanBackward1>)\n"
     ]
    }
   ],
   "source": [
    "loss = MSESignal(sh_order=sh_order, gradients=gradients)\n",
    "print(loss(sc_tensor_sh, input_tensor_sh, torch.from_numpy(np.ones(1)).reshape(1, 1, 1, 1)))"
   ]
  },
  {
   "cell_type": "markdown",
   "metadata": {},
   "source": [
    "## Spherical Harmonic Domain to Signal domain transformation"
   ]
  },
  {
   "cell_type": "code",
   "execution_count": 30,
   "metadata": {},
   "outputs": [],
   "source": [
    "sh2s = SH2Signal(sh_order=sh_order, gradients=gradients)\n",
    "output_signal = sh2s(sc_tensor_sh)"
   ]
  }
 ],
 "metadata": {
  "kernelspec": {
   "display_name": "Python 3",
   "language": "python",
   "name": "python3"
  },
  "language_info": {
   "codemirror_mode": {
    "name": "ipython",
    "version": 3
   },
   "file_extension": ".py",
   "mimetype": "text/x-python",
   "name": "python",
   "nbconvert_exporter": "python",
   "pygments_lexer": "ipython3",
   "version": "3.6.7"
  }
 },
 "nbformat": 4,
 "nbformat_minor": 2
}
